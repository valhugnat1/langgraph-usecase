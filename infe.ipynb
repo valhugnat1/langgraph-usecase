{
 "cells": [
  {
   "cell_type": "code",
   "execution_count": 8,
   "metadata": {},
   "outputs": [
    {
     "name": "stdout",
     "output_type": "stream",
     "text": [
      "Receiving new event of type: metadata...\n",
      "{'run_id': '1f00bfc1-dc9a-606a-be79-fc678557116d', 'attempt': 1}\n",
      "\n",
      "\n",
      "\n",
      "Receiving new event of type: updates...\n",
      "{'supervisor': None}\n",
      "\n",
      "\n",
      "\n",
      "Receiving new event of type: updates...\n",
      "{'general ai': {'messages': [{'content': \"The current outcome of the Nicolas Sarkozy Kadafy affair is that French prosecutors are seeking a seven-year prison sentence and a €300,000 fine for former President Nicolas Sarkozy, who is accused of passive corruption, illegal campaign financing, concealment of embezzlement of public funds, and criminal association. Sarkozy has denied any wrongdoing and is facing charges related to allegations that his 2007 presidential campaign was illegally financed by former Libyan leader Muammar Gaddafi's government. The case is ongoing, and Sarkozy has already been convicted in two other criminal cases.\", 'additional_kwargs': {}, 'response_metadata': {}, 'type': 'human', 'name': None, 'id': '3656bee6-ae27-4c77-bc4d-4cf0fb47ac72', 'example': False}]}}\n",
      "\n",
      "\n",
      "\n"
     ]
    }
   ],
   "source": [
    "from langgraph_sdk import get_client\n",
    "\n",
    "client = get_client(url=\"http://localhost:2024\")\n",
    "\n",
    "async for chunk in client.runs.stream(\n",
    "    None,  # Threadless run\n",
    "    \"my_agent\", # Name of assistant. Defined in langgraph.json.\n",
    "    input={\n",
    "        \"messages\": [{\n",
    "            \"role\": \"human\",\n",
    "            \"content\": \"Quelle est le resulat de l'affaire Nicolas Sarkozy Kadafy ?\",\n",
    "        }],\n",
    "    },\n",
    "    stream_mode=\"updates\",\n",
    "):\n",
    "    print(f\"Receiving new event of type: {chunk.event}...\")\n",
    "    print(chunk.data)\n",
    "    print(\"\\n\\n\")"
   ]
  },
  {
   "cell_type": "code",
   "execution_count": null,
   "metadata": {},
   "outputs": [],
   "source": []
  }
 ],
 "metadata": {
  "kernelspec": {
   "display_name": "langgraph-agent-webinar",
   "language": "python",
   "name": "python3"
  },
  "language_info": {
   "codemirror_mode": {
    "name": "ipython",
    "version": 3
   },
   "file_extension": ".py",
   "mimetype": "text/x-python",
   "name": "python",
   "nbconvert_exporter": "python",
   "pygments_lexer": "ipython3",
   "version": "3.11.11"
  }
 },
 "nbformat": 4,
 "nbformat_minor": 2
}
